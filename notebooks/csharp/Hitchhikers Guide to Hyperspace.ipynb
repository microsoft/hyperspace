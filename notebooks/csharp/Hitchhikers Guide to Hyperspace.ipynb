{
  "metadata": {
    "saveOutput": true,
    "language_info": {
      "name": "csharp"
    }
  },
  "nbformat": 4,
  "nbformat_minor": 2,
  "cells": [
    {
      "cell_type": "markdown",
      "metadata": {},
      "source": [
        "# Hitchhiker's Guide to Hyperspace (C# for Spark .Net)\n",
        "## An Indexing Subsystem for Apache Spark™\n",
        "\n",
        "<img src=\"https://raw.githubusercontent.com/rapoth/hyperspace/master/docs/assets/images/hyperspace-small-banner.png\" alt=\"Hyperspace Indexing Sub-System Logo\" width=\"1000\"/>\n",
        "\n",
        "[Hyperspace](https://github.com/microsoft/hyperspace) introduces the ability for Apache Spark™ users to create indexes on their datasets (e.g., CSV, JSON, Parquet etc.) and leverage them for potential query and workload acceleration.\n",
        "\n",
        "In this notebook, we highlight the basics of Hyperspace, emphasizing on its simplicity and show how it can be used by just anyone.\n",
        "\n",
        "**Disclaimer**: Hyperspace helps accelerate your workloads/queries under two circumstances:\n",
        "\n",
        "  1. Queries contain filters on predicates with high selectivity (e.g., you want to select 100 matching rows from a million candidate rows)\n",
        "  2. Queries contain a join that requires heavy-shuffles (e.g., you want to join a 100 GB dataset with a 10 GB dataset)\n",
        "\n",
        "You may want to carefully monitor your workloads and determine whether indexing is helping you on a case-by-case basis."
      ],
      "attachments": {}
    },
    {
      "cell_type": "markdown",
      "metadata": {},
      "source": [
        "## Setup\n",
        "To begin with, let's start a new Spark™ session. Since this notebook is a tutorial merely to illustrate what Hyperspace can offer, we will make a configuration change that allow us to highlight what Hyperspace is doing on small datasets. By default, Spark™ uses *broadcast join* to optimize join queries when the data size for one side of join is small (which is the case for the sample data we use in this tutorial). Therefore, we disable broadcast joins so that later when we run join queries, Spark™ uses *sort-merge* join. This is mainly to show how Hyperspace indexes would be used at scale for accelerating join queries.\n",
        "\n",
        "The output of running the cell below shows a reference to the successfully created Spark™ session and prints out '-1' as the value for the modified join config which indicates that broadcast join is successfully disabled."
      ],
      "attachments": {}
    },
    {
      "cell_type": "code",
      "execution_count": null,
      "outputs": [],
      "metadata": {},
      "source": [
        "var sessionId = (new Random()).Next(10000000);\n",
        "var dataPath = $\"/hyperspace/data-{sessionId}\";\n",
        "var indexLocation = $\"/hyperspace/indexes-{sessionId}\";\n",
        "\n",
        "// Use a random index location to avoid conflicts while using the notebook.\n",
        "spark.Conf().Set(\"spark.hyperspace.system.path\", indexLocation);"
      ],
      "attachments": {}
    },
    {
      "cell_type": "code",
      "execution_count": null,
      "outputs": [],
      "metadata": {},
      "source": [
        "// Disable BroadcastHashJoin, so Spark™ will use standard SortMergeJoin. Currently hyperspace indexes utilize SortMergeJoin to speed up query.\n",
        "spark.Conf().Set(\"spark.sql.autoBroadcastJoinThreshold\", -1);\n",
        "\n",
        "// Verify that BroadcastHashJoin is set correctly \n",
        "Console.WriteLine(spark.Conf().Get(\"spark.sql.autoBroadcastJoinThreshold\"));"
      ],
      "attachments": {}
    },
    {
      "cell_type": "markdown",
      "metadata": {},
      "source": [
        "## Data Preparation\n",
        "\n",
        "To prepare our environment, we will create sample data records and save them as parquet data files. While we use Parquet for illustration, you can use other formats such as CSV. In the subsequent cells, we will also demonstrate how you can create several Hyperspace indexes on this sample dataset and how one can make Spark™ use them when running queries. \n",
        "\n",
        "Our example records correspond to two datasets: *department* and *employee*. You should configure \"empLocation\" and \"deptLocation\" paths so that on the storage account they point to your desired location to save generated data files. \n",
        "\n",
        "The output of running below cell shows contents of our datasets as lists of triplets followed by references to dataFrames created to save the content of each dataset in our preferred location."
      ],
      "attachments": {}
    },
    {
      "cell_type": "code",
      "execution_count": null,
      "outputs": [],
      "metadata": {},
      "source": [
        "using Microsoft.Spark.Sql.Types;\n",
        "\n",
        "// Sample department records\n",
        "var departments = new List<GenericRow>()\n",
        "{\n",
        "    new GenericRow(new object[] {10, \"Accounting\", \"New York\"}),\n",
        "    new GenericRow(new object[] {20, \"Research\", \"Dallas\"}),\n",
        "    new GenericRow(new object[] {30, \"Sales\", \"Chicago\"}),\n",
        "    new GenericRow(new object[] {40, \"Operations\", \"Boston\"})\n",
        "};\n",
        "\n",
        "// Sample employee records\n",
        "var employees = new List<GenericRow>() {\n",
        "      new GenericRow(new object[] {7369, \"SMITH\", 20}),\n",
        "      new GenericRow(new object[] {7499, \"ALLEN\", 30}),\n",
        "      new GenericRow(new object[] {7521, \"WARD\", 30}),\n",
        "      new GenericRow(new object[] {7566, \"JONES\", 20}),\n",
        "      new GenericRow(new object[] {7698, \"BLAKE\", 30}),\n",
        "      new GenericRow(new object[] {7782, \"CLARK\", 10}),\n",
        "      new GenericRow(new object[] {7788, \"SCOTT\", 20}),\n",
        "      new GenericRow(new object[] {7839, \"KING\", 10}),\n",
        "      new GenericRow(new object[] {7844, \"TURNER\", 30}),\n",
        "      new GenericRow(new object[] {7876, \"ADAMS\", 20}),\n",
        "      new GenericRow(new object[] {7900, \"JAMES\", 30}),\n",
        "      new GenericRow(new object[] {7934, \"MILLER\", 10}),\n",
        "      new GenericRow(new object[] {7902, \"FORD\", 20}),\n",
        "      new GenericRow(new object[] {7654, \"MARTIN\", 30})\n",
        "};\n",
        "\n",
        "// Save sample data in the Parquet format\n",
        "var departmentSchema = new StructType(new List<StructField>()\n",
        "{\n",
        "    new StructField(\"deptId\", new IntegerType()),\n",
        "    new StructField(\"deptName\", new StringType()),\n",
        "    new StructField(\"location\", new StringType())\n",
        "});\n",
        "var employeeSchema = new StructType(new List<StructField>()\n",
        "{\n",
        "    new StructField(\"empId\", new IntegerType()),\n",
        "    new StructField(\"empName\", new StringType()),\n",
        "    new StructField(\"deptId\", new IntegerType())\n",
        "});\n",
        "\n",
        "DataFrame empData = spark.CreateDataFrame(employees, employeeSchema); \n",
        "DataFrame deptData = spark.CreateDataFrame(departments, departmentSchema); \n",
        "\n",
        "string empLocation = $\"{dataPath}/employees.parquet\";\n",
        "string deptLocation = $\"{dataPath}/departments.parquet\";\n",
        "empData.Write().Mode(\"overwrite\").Parquet(empLocation);\n",
        "deptData.Write().Mode(\"overwrite\").Parquet(deptLocation);"
      ],
      "attachments": {}
    },
    {
      "cell_type": "markdown",
      "metadata": {},
      "source": [
        "Let's verify the contents of parquet files we created above to make sure they contain expected records in correct format. We later use these data files to create Hyperspace indexes and run sample queries.\n",
        "\n",
        "Running below cell, the output displays the rows in employee and department dataframes in a tabular form. There should be 14 employees and 4 departments, each matching with one of triplets we created in the previous cell."
      ],
      "attachments": {}
    },
    {
      "cell_type": "code",
      "execution_count": null,
      "outputs": [],
      "metadata": {},
      "source": [
        "// empLocation and deptLocation are the user defined locations above to save parquet files\n",
        "DataFrame empDF = spark.Read().Parquet(empLocation);\n",
        "DataFrame deptDF = spark.Read().Parquet(deptLocation);\n",
        "\n",
        "// Verify the data is available and correct\n",
        "empDF.Show();\n",
        "deptDF.Show();"
      ],
      "attachments": {}
    },
    {
      "cell_type": "markdown",
      "metadata": {},
      "source": [
        "## Hello Hyperspace Index!\n",
        "Hyperspace lets users create indexes on records scanned from persisted data files. Once successfully created, an entry corresponding to the index is added to the Hyperspace's metadata. This metadata is later used by Apache Spark™'s Hyperspace-enabled optimizer during query processing to find and use proper indexes. \n",
        "\n",
        "Once indexes are created, users can perform several actions:\n",
        "  - **Refresh** If the underlying data changes, users can refresh an existing index to capture that. \n",
        "  - **Delete** If the index is not needed, users can perform a soft-delete i.e., index is not physically deleted but is marked as 'deleted' so it is no longer used in your workloads.\n",
        "  - **Vacuum** If an index is no longer required, users can vacuum it which forces a physical deletion of the index contents and associated metadata completely from Hyperspace's metadata.\n",
        "\n",
        "Below sections show how such index management operations can be done in Hyperspace.\n",
        "\n",
        "First, we need to import the required libraries and create an instance of Hyperspace. We later use this instance to invoke different Hyperspace APIs to create indexes on our sample data and modify those indexes.\n",
        "\n",
        "Output of running below cell shows a reference to the created instance of Hyperspace."
      ],
      "attachments": {}
    },
    {
      "cell_type": "code",
      "execution_count": null,
      "outputs": [],
      "metadata": {},
      "source": [
        "// Create an instance of Hyperspace\n",
        "using Microsoft.Spark.Extensions.Hyperspace;\n",
        "\n",
        "Hyperspace hyperspace = new Hyperspace(spark);"
      ],
      "attachments": {}
    },
    {
      "cell_type": "markdown",
      "metadata": {},
      "source": [
        "### Create Indexes\n",
        "To create a Hyperspace index, the user needs to provide 2 pieces of information:\n",
        "* An Apache Spark™ DataFrame which references the data to be indexed.\n",
        "* An index configuration object: IndexConfig, which specifies the *index name*, *indexed* and *included* columns of the index. \n",
        "\n",
        "As you might have noticed, in this notebook, we illustrate indexing using the [Covering Index](https://www.red-gate.com/simple-talk/sql/learn-sql-server/using-covering-indexes-to-improve-query-performance/), which is the default index in Hyperspace. In the future, we plan on adding support for other index types. \n",
        "\n",
        "We start by creating three Hyperspace indexes on our sample data: two indexes on the department dataset named \"deptIndex1\" and \"deptIndex2\", and one index on the employee dataset named 'empIndex'. \n",
        "For each index, we need a corresponding IndexConfig to capture the name along with columns lists for the indexed and included columns. Running below cell creates these indexConfigs and its output lists them.\n",
        "\n",
        "**Note**: An *index column* is a column that appears in your filters or join conditions. An *included column* is a column that appears in your select/project.\n",
        "\n",
        "For instance, in the following query:\n",
        "```sql\n",
        "SELECT X\n",
        "FROM Table\n",
        "WHERE Y = 2\n",
        "```\n",
        "Y can be an *index column* and X can be an *included column*."
      ],
      "attachments": {}
    },
    {
      "cell_type": "code",
      "execution_count": null,
      "outputs": [],
      "metadata": {},
      "source": [
        "// Create index configurations\n",
        "using Microsoft.Spark.Extensions.Hyperspace.Index;\n",
        "\n",
        "var empIndexConfig = new IndexConfig(\"empIndex\", new string[] {\"deptId\"}, new string[] {\"empName\"});\n",
        "var deptIndexConfig1 = new IndexConfig(\"deptIndex1\", new string[] {\"deptId\"}, new string[] {\"deptName\"});\n",
        "var deptIndexConfig2 = new IndexConfig(\"deptIndex2\", new string[] {\"location\"}, new string[] {\"deptName\"});"
      ],
      "attachments": {}
    },
    {
      "cell_type": "markdown",
      "metadata": {},
      "source": [
        "Now, we create three indexes using our index configurations. For this purpose, we invoke \"createIndex\" command on our Hyperspace instance. This command requires an index configuration and the dataFrame containing rows to be indexed.\n",
        "Running below cell creates three indexes.\n",
        ""
      ],
      "attachments": {}
    },
    {
      "cell_type": "code",
      "execution_count": null,
      "outputs": [],
      "metadata": {},
      "source": [
        "// Create indexes from configurations\n",
        "hyperspace.CreateIndex(empDF, empIndexConfig);\n",
        "hyperspace.CreateIndex(deptDF, deptIndexConfig1);\n",
        "hyperspace.CreateIndex(deptDF, deptIndexConfig2);"
      ],
      "attachments": {}
    },
    {
      "cell_type": "markdown",
      "metadata": {},
      "source": [
        "### List Indexes\n",
        "\n",
        "Below code shows how a user can list all available indexes in a Hyperspace instance. It uses the `indexes` API which returns information about existing indexes as a Spark™'s DataFrame so you can perform additional operations. For instance, you can invoke valid operations on this DataFrame for checking its content or analyzing it further (for example filtering specific indexes or grouping them according to some desired property). \n",
        "\n",
        "Below cell uses DataFrame's `show` action to fully print the rows and show details of our indexes in a tabular form. For each index, we can see all the information Hyperspace has stored about it in its metadata. \n",
        "\n",
        "You will immediately notice the following:\n",
        "  - `config.indexName`, `config.indexedColumns`, `config.includedColumns` are the fields that a user normally provides during index creation.\n",
        "  - `status.status` indicates if the index is being actively used by the Spark's optimizer.\n",
        "  - `dfSignature` is automatically generated by Hyperspace and is unique for each index. Hyperspace uses this signature internally to maintain the index and exploit it at query time. \n",
        "  \n",
        "In the output below, all three indexes should have \"ACTIVE\" as status and their name, indexed columns, and included columns should match with what we defined in index configurations above."
      ],
      "attachments": {}
    },
    {
      "cell_type": "code",
      "execution_count": null,
      "outputs": [],
      "metadata": {},
      "source": [
        "hyperspace.Indexes().Show();"
      ],
      "attachments": {}
    },
    {
      "cell_type": "markdown",
      "metadata": {},
      "source": [
        "### Delete Indexes\n",
        "A user can drop an existing index by using the `deleteIndex` API and providing the index name. \n",
        "\n",
        "Index deletion is a **soft-delete** operation i.e., only the index's status in the Hyperspace metadata from is changed from \"ACTIVE\" to \"DELETED\". This will exclude the deleted index from any future query optimization and Hyperspace no longer picks that index for any query. However, index files for a deleted index still remain available (since it is a soft-delete), so if you accidentally deleted the index, you could still restore it.\n",
        "\n",
        "The cell below deletes index with name \"deptIndex2\" and lists Hyperspace metadata after that. The output should be similar to above cell for \"List Indexes\" except for \"deptIndex2\" which now should have its status changed into \"DELETED\"."
      ],
      "attachments": {}
    },
    {
      "cell_type": "code",
      "execution_count": null,
      "outputs": [],
      "metadata": {},
      "source": [
        "hyperspace.DeleteIndex(\"deptIndex2\");\n",
        "\n",
        "hyperspace.Indexes().Show();"
      ],
      "attachments": {}
    },
    {
      "cell_type": "markdown",
      "metadata": {},
      "source": [
        "### Restore Indexes\n",
        "A user can use the `restoreIndex` API to restore a deleted index. This will bring back the latest version of index into ACTIVE status and makes it usable again for queries. \n",
        "\n",
        "The cell below shows an example of `restoreIndex` API. We delete \"deptIndex1\" and restore it. The output shows \"deptIndex1\" first went into the \"DELETED\" status after invoking \"deleteIndex\" command and came back to the \"ACTIVE\" status after calling \"restoreIndex\"."
      ],
      "attachments": {}
    },
    {
      "cell_type": "code",
      "execution_count": null,
      "outputs": [],
      "metadata": {},
      "source": [
        "hyperspace.DeleteIndex(\"deptIndex1\");\n",
        "\n",
        "hyperspace.Indexes().Show();\n",
        "\n",
        "hyperspace.RestoreIndex(\"deptIndex1\");\n",
        "\n",
        "hyperspace.Indexes().Show();"
      ],
      "attachments": {}
    },
    {
      "cell_type": "markdown",
      "metadata": {},
      "source": [
        "### Vacuum Indexes\n",
        "The user can perform a **hard-delete** i.e., fully remove files and the metadata entry for a deleted index using the `vacuumIndex` API. Once done, this action is **irreversible** as it physically deletes all the index files associated with the index.\n",
        "\n",
        "The cell below vacuums the \"deptIndex2\" index and shows Hyperspace metadata after vaccuming. You should see metadata entries for two indexes \"deptIndex1\" and \"empIndex\" both with \"ACTIVE\" status and no entry for \"deptIndex2\"."
      ],
      "attachments": {}
    },
    {
      "cell_type": "code",
      "execution_count": null,
      "outputs": [],
      "metadata": {},
      "source": [
        "hyperspace.VacuumIndex(\"deptIndex2\");\n",
        "\n",
        "hyperspace.Indexes().Show();"
      ],
      "attachments": {}
    },
    {
      "cell_type": "markdown",
      "metadata": {},
      "source": [
        "## Enable/Disable Hyperspace\n",
        "\n",
        "Hyperspace provides APIs to enable or disable index usage with Spark™.\n",
        "\n",
        "  - By using `enableHyperspace` API, Hyperspace optimization rules become visible to the Apache Spark™ optimizer and it will exploit existing Hyperspace indexes to optimize user queries.\n",
        "  - By using `disableHyperspace` command, Hyperspace rules no longer apply during query optimization. You should note that disabling Hyperspace has no impact on created indexes as they remain intact.\n",
        "\n",
        "Below cell shows how you can use these commands to enable or disable hyperspace. The output simply shows a reference to the existing Spark™ session whose configuration is updated."
      ],
      "attachments": {}
    },
    {
      "cell_type": "code",
      "execution_count": null,
      "outputs": [],
      "metadata": {},
      "source": [
        "// Enable Hyperspace\n",
        "spark.EnableHyperspace();\n",
        "\n",
        "// Disable Hyperspace\n",
        "spark.DisableHyperspace();"
      ],
      "attachments": {}
    },
    {
      "cell_type": "markdown",
      "metadata": {},
      "source": [
        "## Index Usage\n",
        "In order to make Spark™ use Hyperspace indexes during query processing, the user needs to make sure that Hyperspace is enabled. \n",
        "\n",
        "The cell below enables Hyperspace and creates two DataFrames containing our sample data records which we use for running example queries. For each DataFrame, a few sample rows are printed."
      ],
      "attachments": {}
    },
    {
      "cell_type": "code",
      "execution_count": null,
      "outputs": [],
      "metadata": {},
      "source": [
        "// Enable Hyperspace\n",
        "spark.EnableHyperspace();\n",
        "\n",
        "DataFrame empDFrame = spark.Read().Parquet(empLocation);\n",
        "DataFrame deptDFrame = spark.Read().Parquet(deptLocation);\n",
        "\n",
        "empDFrame.Show(5);\n",
        "deptDFrame.Show(5);"
      ],
      "attachments": {}
    },
    {
      "cell_type": "markdown",
      "metadata": {},
      "source": [
        "# Hyperspace's Index Types\n",
        "\n",
        "Currently, Hyperspace can exploit indexes for two groups of queries: \n",
        "* Selection queries with lookup or range selection filtering predicates.\n",
        "* Join queries with an equality join predicate (i.e. Equi-joins)."
      ],
      "attachments": {}
    },
    {
      "cell_type": "markdown",
      "metadata": {},
      "source": [
        "## Indexes for Accelerating Filters\n",
        "\n",
        "Our first example query does a lookup on department records (see below cell). In SQL, this query looks as follows:\n",
        "\n",
        "```sql\n",
        "SELECT deptName \n",
        "FROM departments\n",
        "WHERE deptId = 20\n",
        "```\n",
        "\n",
        "The output of running the cell below shows: \n",
        "- query result, which is a single department name.\n",
        "- query plan that Spark™ used to run the query. \n",
        "\n",
        "In the query plan, the \"FileScan\" operator at the bottom of the plan shows the datasource where the records were read from. The location of this file indicates the path to the latest version of the \"deptIndex1\" index. This shows  that according to the query and using Hyperspace optimization rules, Spark™ decided to exploit the proper index at runtime.\n",
        ""
      ],
      "attachments": {}
    },
    {
      "cell_type": "code",
      "execution_count": null,
      "outputs": [],
      "metadata": {},
      "source": [
        "// Filter with equality predicate\n",
        "DataFrame eqFilter = deptDFrame.Filter(\"deptId = 20\").Select(\"deptName\");\n",
        "eqFilter.Show();\n",
        "\n",
        "hyperspace.Explain(eqFilter, true);"
      ],
      "attachments": {}
    },
    {
      "cell_type": "markdown",
      "metadata": {},
      "source": [
        "Our second example is a range selection query on department records. In SQL, this query looks as follows:\n",
        "\n",
        "```sql\n",
        "SELECT deptName \n",
        "FROM departments\n",
        "WHERE deptId > 20\n",
        "```\n",
        "Similar to our first example, the output of the cell below shows the query results (names of two departments) and the query plan. The location of data file in the FileScan operator shows that 'deptIndex1\" was used to run the query.   \n",
        ""
      ],
      "attachments": {}
    },
    {
      "cell_type": "code",
      "execution_count": null,
      "outputs": [],
      "metadata": {},
      "source": [
        "// Filter with range selection predicate\n",
        "DataFrame rangeFilter = deptDFrame.Filter(\"deptId > 20\").Select(\"deptName\");\n",
        "rangeFilter.Show();\n",
        "\n",
        "hyperspace.Explain(rangeFilter, true);"
      ],
      "attachments": {}
    },
    {
      "cell_type": "markdown",
      "metadata": {},
      "source": [
        "Our third example is a query joining department and employee records on the department id. The equivalent SQL statement is shown below:\n",
        "\n",
        "```sql\n",
        "SELECT employees.deptId, empName, departments.deptId, deptName\n",
        "FROM   employees, departments \n",
        "WHERE  employees.deptId = departments.deptId\n",
        "```\n",
        "\n",
        "The output of running the cell below shows the query results which are the names of 14 employees and the name of department each employee works in. The query plan is also included in the output. Notice how the file locations for two FileScan operators shows that Spark™ used \"empIndex\" and \"deptIndex1\" indexes to run the query.   \n",
        ""
      ],
      "attachments": {}
    },
    {
      "cell_type": "code",
      "execution_count": null,
      "outputs": [],
      "metadata": {},
      "source": [
        "// Join\n",
        "DataFrame eqJoin =\n",
        "      empDFrame\n",
        "      .Join(deptDFrame, empDFrame.Col(\"deptId\") == deptDFrame.Col(\"deptId\"))\n",
        "      .Select(empDFrame.Col(\"empName\"), deptDFrame.Col(\"deptName\"));\n",
        "\n",
        "eqJoin.Show();\n",
        "\n",
        "hyperspace.Explain(eqJoin, true);"
      ],
      "attachments": {}
    },
    {
      "cell_type": "markdown",
      "metadata": {},
      "source": [
        "## Support for SQL Semantics\n",
        "\n",
        "The index usage is transparent to whether the user uses DataFrame API or Spark™ SQL. The following example shows the same join example as before but using Spark SQL, showing the use of indexes if applicable."
      ],
      "attachments": {}
    },
    {
      "cell_type": "code",
      "execution_count": null,
      "outputs": [],
      "metadata": {},
      "source": [
        "empDFrame.CreateOrReplaceTempView(\"EMP\");\n",
        "deptDFrame.CreateOrReplaceTempView(\"DEPT\");\n",
        "\n",
        "var joinQuery = spark.Sql(\"SELECT EMP.empName, DEPT.deptName FROM EMP, DEPT WHERE EMP.deptId = DEPT.deptId\");\n",
        "\n",
        "joinQuery.Show();\n",
        "hyperspace.Explain(joinQuery, true);"
      ],
      "attachments": {}
    },
    {
      "cell_type": "markdown",
      "metadata": {},
      "source": [
        "## Explain API\n",
        "\n",
        "So far, you might have observed we have been using the explain API provided by Hyperspace. The `explain` API from Hyperspace is very similar to Spark's `df.explain` API but allows users to compare their original plan vs the updated index-dependent plan before running their query. You have an option to choose from html/plaintext/console mode to display the command output."
      ],
      "attachments": {}
    },
    {
      "cell_type": "code",
      "execution_count": null,
      "outputs": [],
      "metadata": {},
      "source": [
        "spark.Conf().Set(\"spark.hyperspace.explain.displayMode.highlight.beginTag\", \"<b style=\\\"background:LightGreen\\\">\");\n",
        "spark.Conf().Set(\"spark.hyperspace.explain.displayMode.highlight.endTag\", \"</b>\");\n",
        "\n",
        "hyperspace.Explain(eqJoin, true);"
      ],
      "attachments": {}
    },
    {
      "cell_type": "markdown",
      "metadata": {},
      "source": [
        "## Refresh Indexes\n",
        "If the original data on which an index was created changes, then the index will no longer capture the latest state of data and hence will not be used by Hyperspace to provide any acceleration. The user can refresh such a stale index using the `refreshIndex` API. This causes the index to be fully rebuilt and updates it according to the latest data records.\n",
        "    \n",
        "    Spoiler alert: if you are worried about fully rebuilding your index every time your data changes, don't worry! We will show you how to *incrementally refresh* your index in subsequent cells below.\n",
        "\n",
        "The two cells below show an example for this scenario:\n",
        "- First cell adds two more departments to the original departments data. It reads and prints list of departments to verify new departments are added correctly. The output shows 6 departments in total: four old ones and two new. Invoking \"refreshIndex\" updates \"deptIndex1\" so index captures new departments.\n",
        "- Second cell runs our range selection query example. The results should now contain four departments: two are the ones, seen before when we ran the query above, and two are the new departments we just added."
      ],
      "attachments": {}
    },
    {
      "cell_type": "code",
      "execution_count": null,
      "outputs": [],
      "metadata": {},
      "source": [
        "var extraDepartments = new List<GenericRow>()\n",
        "{\n",
        "    new GenericRow(new object[] {50, \"Inovation\", \"Seattle\"}),\n",
        "    new GenericRow(new object[] {60, \"Human Resources\", \"San Francisco\"})\n",
        "};\n",
        "\t  \n",
        "DataFrame extraDeptData = spark.CreateDataFrame(extraDepartments, departmentSchema);\n",
        "extraDeptData.Write().Mode(\"Append\").Parquet(deptLocation);\n",
        "\n",
        "DataFrame deptDFrameUpdated = spark.Read().Parquet(deptLocation);\n",
        "\n",
        "deptDFrameUpdated.Show(10);\n",
        "\n",
        "hyperspace.RefreshIndex(\"deptIndex1\");"
      ],
      "attachments": {}
    },
    {
      "cell_type": "code",
      "execution_count": null,
      "outputs": [],
      "metadata": {},
      "source": [
        "DataFrame newRangeFilter = deptDFrameUpdated.Filter(\"deptId > 20\").Select(\"deptName\");\n",
        "newRangeFilter.Show();\n",
        "\n",
        "hyperspace.Explain(newRangeFilter, true);"
      ],
      "attachments": {}
    },
    {
      "cell_type": "markdown",
      "metadata": {},
      "source": [
        "## Hybrid Scan for Mutable Datasets\n",
        "\n",
        "Often times, if your underlying source data had some new files appended or existing files deleted, your index will get stale and Hyperspace decides not to use it. However, there are times where you just want to use the index without having to refresh it everytime. There could be multiple reasons for doing so:\n",
        "\n",
        "  1. You do not want to continuosly refresh your index but instead want to do it periodically since you understand your workloads the best.  \n",
        "  2. You added/removed only a few files and do not want to wait for yet another refresh job to finish. \n",
        "\n",
        "To allow you to still use a stale index, Hyperspace introduces **Hybrid Scan**, a novel technique that allows users to utilize outdated or stale indexes (e.g., the underlying source data had some new files appended or existing files deleted), without refreshing indexes. \n",
        "\n",
        "To achieve this, when you set the appropriate configuration to enable Hybrid Scan, Hyperspace modifies the query plan to leverage the changes as following:\n",
        "- Appended files can be merged to index data by using **`Union` or `BucketUnion` (for join)**. Shuffling appended data can also be applied before merging, if needed.\n",
        "- Deleted files can be handled by injecting `Filter-NOT-IN` condition on **lineage column** of index data, so that the indexed rows from the deleted files can be excluded at query time. \n",
        "\n",
        "You can check the transformation of the query plan in below examples.\n"
      ],
      "attachments": {}
    },
    {
      "cell_type": "markdown",
      "metadata": {},
      "source": [
        "### Hybrid Scan for appended files - non-partitioned data\n",
        "\n",
        "Non-partitioned data is used in below example. In this example, we expect Join index can be used for the query and `BucketUnion` is introduced for appended files."
      ],
      "attachments": {}
    },
    {
      "cell_type": "code",
      "execution_count": null,
      "outputs": [],
      "metadata": {},
      "source": [
        "// GENERATE TEST DATA\n",
        "using Microsoft.Spark.Sql.Types;\n",
        "\n",
        "var products = new List<GenericRow>() {\n",
        "    new GenericRow(new object[] {\"orange\", 3, \"2020-10-01\"}),\n",
        "    new GenericRow(new object[] {\"banana\", 1, \"2020-10-01\"}),\n",
        "    new GenericRow(new object[] {\"carrot\", 5, \"2020-10-02\"}),\n",
        "    new GenericRow(new object[] {\"beetroot\", 12, \"2020-10-02\"}),\n",
        "    new GenericRow(new object[] {\"orange\", 2, \"2020-10-03\"}),\n",
        "    new GenericRow(new object[] {\"banana\", 11, \"2020-10-03\"}),\n",
        "    new GenericRow(new object[] {\"carrot\", 3, \"2020-10-03\"}),\n",
        "    new GenericRow(new object[] {\"beetroot\", 2, \"2020-10-04\"}),\n",
        "    new GenericRow(new object[] {\"cucumber\", 7, \"2020-10-05\"}),\n",
        "    new GenericRow(new object[] {\"pepper\", 20, \"2020-10-06\"})\n",
        "};\n",
        "var productsSchema = new StructType(new List<StructField>()\n",
        "{\n",
        "    new StructField(\"name\", new StringType()),\n",
        "    new StructField(\"qty\", new IntegerType()),\n",
        "    new StructField(\"date\", new StringType())\n",
        "});\n",
        "\n",
        "DataFrame testData = spark.CreateDataFrame(products, productsSchema); \n",
        "string testDataLocation = $\"{dataPath}/productTable\";\n",
        "testData.Write().Mode(\"overwrite\").Parquet(testDataLocation);"
      ],
      "attachments": {}
    },
    {
      "cell_type": "code",
      "execution_count": null,
      "outputs": [],
      "metadata": {},
      "source": [
        "// CREATE INDEX\n",
        "DataFrame testDF = spark.Read().Parquet(testDataLocation);\n",
        "var productIndex2Config = new IndexConfig(\"productIndex\", new string[] {\"name\"}, new string[] {\"date\", \"qty\"});\n",
        "hyperspace.CreateIndex(testDF, productIndex2Config);"
      ],
      "attachments": {}
    },
    {
      "cell_type": "code",
      "execution_count": null,
      "outputs": [],
      "metadata": {},
      "source": [
        "DataFrame filter1 = testDF.Filter(\"name = 'banana'\");\n",
        "DataFrame filter2 = testDF.Filter(\"qty > 10\");\n",
        "DataFrame query = filter1.Join(filter2, filter1.Col(\"name\") == filter2.Col(\"name\"));\n",
        "\n",
        "query.Show();\n",
        "\n",
        "hyperspace.Explain(query, true);"
      ],
      "attachments": {}
    },
    {
      "cell_type": "code",
      "execution_count": null,
      "outputs": [],
      "metadata": {},
      "source": [
        "// Append new files.\n",
        "var appendProducts = new List<GenericRow>()\n",
        "{\n",
        "    new GenericRow(new object[] {\"orange\", 13, \"2020-11-01\"}),\n",
        "    new GenericRow(new object[] {\"banana\", 5, \"2020-11-01\"})\n",
        "};\n",
        "    \n",
        "DataFrame appendData = spark.CreateDataFrame(appendProducts, productsSchema);\n",
        "appendData.Write().Mode(\"Append\").Parquet(testDataLocation);"
      ],
      "attachments": {}
    },
    {
      "cell_type": "markdown",
      "metadata": {},
      "source": [
        "Hybrid scan is disabled by default. Therefore, you will see that since we appended new data, Hyperspace will decide NOT to use the index.\n",
        "\n",
        "In the output, you will see no plan differences (hence no highlighting)."
      ],
      "attachments": {}
    },
    {
      "cell_type": "code",
      "execution_count": null,
      "outputs": [],
      "metadata": {},
      "source": [
        "// Hybrid Scan configs are false by default.\n",
        "spark.Conf().Set(\"spark.hyperspace.index.hybridscan.enabled\", \"false\");\n",
        "\n",
        "DataFrame testDFWithAppend = spark.Read().Parquet(testDataLocation);\n",
        "DataFrame filter1 = testDFWithAppend.Filter(\"name = 'banana'\");\n",
        "DataFrame filter2 = testDFWithAppend.Filter(\"qty > 10\");\n",
        "DataFrame query = filter1.Join(filter2, filter1.Col(\"name\") == filter2.Col(\"name\"));\n",
        "\n",
        "query.Show();\n",
        "\n",
        "hyperspace.Explain(query, true);"
      ],
      "attachments": {}
    },
    {
      "cell_type": "markdown",
      "metadata": {},
      "source": [
        "### Enable Hybrid Scan\n",
        "\n",
        "In plan with indexes, you can see\n",
        "`Exchange hashpartitioning` required only for appended files so that we could still utilize the \"shuffled\" index data with appended files. `BucketUnion` is used to merge \"shuffled\" appended files with the index data."
      ],
      "attachments": {}
    },
    {
      "cell_type": "code",
      "execution_count": null,
      "outputs": [],
      "metadata": {},
      "source": [
        "// Enable Hybrid Scan config.\n",
        "spark.Conf().Set(\"spark.hyperspace.index.hybridscan.enabled\", \"true\");\n",
        "// Adjust the ratio of appended data threshold if needed. It's 0.3 (30%) by default.\n",
        "spark.Conf().Set(\"spark.hyperspace.index.hybridscan.maxAppendedRatio\", \"0.9\")\n",
        "spark.EnableHyperspace();\n",
        "// Need to redefine query to recalculate the query plan.\n",
        "DataFrame query = filter1.Join(filter2, filter1.Col(\"name\") == filter2.Col(\"name\"));\n",
        "\n",
        "query.Show();\n",
        "\n",
        "hyperspace.Explain(query, true);"
      ],
      "attachments": {}
    }
  ]
}