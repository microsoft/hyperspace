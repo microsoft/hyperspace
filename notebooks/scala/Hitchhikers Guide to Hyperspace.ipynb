{
  "cells": [
    {
      "cell_type": "markdown",
      "metadata": {},
      "source": [
        "## Hitchhiker's Guide to Hyperspace - An Indexing Subsystem for Apache Spark™\n",
        "Hyperspace introduces the ability for Apache Spark™ users to create indexes on their datasets (e.g., CSV, JSON, Parquet etc.) and leverage them for potential query and workload acceleration.\n",
        "\n",
        "In this notebook, we highlight the basics of Hyperspace, emphasizing on its simplicity and shows how it can be used by just anyone.\n",
        "\n",
        "**Disclaimer**: Hyperspace helps accelerate your workloads/queries under two circumstances:\n",
        "\n",
        "  1. Queries contain filters on predicates with high selectivity (e.g., you want to select 100 matching rows from a million candidate rows)\n",
        "  2. Queries contain a join that requires heavy-shuffles (e.g., you want to join a 100 GB dataset with a 10 GB dataset)\n",
        "\n",
        "You may want to carefully monitor your workloads and determine whether indexing is helping you on a case-by-case basis."
      ],
      "attachments": {}
    },
    {
      "cell_type": "markdown",
      "metadata": {},
      "source": [
        "## Setup\n",
        "To begin with, let's start a new Spark™ session. Since this notebook is a tutorial merely to illustrate what Hyperspace can offer, we will make a configuration change that allow us to highlight what Hyperspace is doing on small datasets. By default, Spark™ uses *broadcast join* to optimize join queries when the data size for one side of join is small (which is the case for the sample data we use in this tutorial). Therefore, we disable broadcast joins so that later when we run join queries, Spark™ uses *sort-merge* join. This is mainly to show how Hyperspace indexes would be used at scale for accelerating join queries.\n",
        "\n",
        "The output of running the cell below shows a reference to the successfully created Spark™ session and prints out '-1' as the value for the modified join config which indicates that broadcast join is successfully disabled."
      ],
      "attachments": {}
    },
    {
      "cell_type": "code",
      "execution_count": 3,
      "outputs": [
        {
          "output_type": "execute_result",
          "execution_count": 3,
          "data": {
            "text/plain": "res3: org.apache.spark.sql.Spark™Session = org.apache.spark.sql.Spark™Session@297e957d\n-1"
          },
          "metadata": {}
        }
      ],
      "metadata": {},
      "source": [
        "// Start your Spark™ session\n",
        "spark\n",
        "\n",
        "// Disable BroadcastHashJoin, so Spark™ will use standard SortMergeJoin. Currently hyperspace indexes utilize SortMergeJoin to speed up query.\n",
        "spark.conf.set(\"spark.sql.autoBroadcastJoinThreshold\", -1)\n",
        "\n",
        "// Verify that BroadcastHashJoin is set correctly \n",
        "println(spark.conf.get(\"spark.sql.autoBroadcastJoinThreshold\"))"
      ],
      "attachments": {}
    },
    {
      "cell_type": "markdown",
      "metadata": {},
      "source": [
        "## Data Preparation\n",
        "\n",
        "To prepare our environment, we will create sample data records and save them as parquet data files. While we use Parquet for illustration, you can use other formats such as CSV. In the subsequent cells, we will also demonstrate how you can create several Hyperspace indexes on this sample dataset and how one can make Spark™ use them when running queries. \n",
        "\n",
        "Our example records correspond to two datasets: *department* and *employee*. You should configure \"empLocation\" and \"deptLocation\" paths so that on the storage account they point to your desired location to save generated data files. \n",
        "\n",
        "The output of running below cell shows contents of our datasets as lists of triplets followed by references to dataFrames created to save the content of each dataset in our preferred location."
      ],
      "attachments": {}
    },
    {
      "cell_type": "code",
      "execution_count": 4,
      "outputs": [
        {
          "output_type": "execute_result",
          "data": {
            "text/plain": "import org.apache.spark.sql.DataFrame\ndepartments: Seq[(Int, String, String)] = List((10,Accounting,New York), (20,Research,Dallas), (30,Sales,Chicago), (40,Operations,Boston))\nemployees: Seq[(Int, String, Int)] = List((7369,SMITH,20), (7499,ALLEN,30), (7521,WARD,30), (7566,JONES,20), (7698,BLAKE,30), (7782,CLARK,10), (7788,SCOTT,20), (7839,KING,10), (7844,TURNER,30), (7876,ADAMS,20), (7900,JAMES,30), (7934,MILLER,10), (7902,FORD,20), (7654,MARTIN,30))\nimport spark.implicits._\nempData: org.apache.spark.sql.DataFrame = [empId: int, empName: string ... 1 more field]\ndeptData: org.apache.spark.sql.DataFrame = [deptId: int, deptName: string ... 1 more field]\nempLocation: String = /your-path/employees.parquet\ndeptLocation: String = /your-path/departments.parquet"
          },
          "execution_count": 4,
          "metadata": {}
        }
      ],
      "metadata": {},
      "source": [
        "import org.apache.spark.sql.DataFrame\n",
        "\n",
        "// Sample department records\n",
        "val departments = Seq(\n",
        "      (10, \"Accounting\", \"New York\"),\n",
        "      (20, \"Research\", \"Dallas\"),\n",
        "      (30, \"Sales\", \"Chicago\"),\n",
        "      (40, \"Operations\", \"Boston\"))\n",
        "\n",
        "// Sample employee records\n",
        "val employees = Seq(\n",
        "      (7369, \"SMITH\", 20),\n",
        "      (7499, \"ALLEN\", 30),\n",
        "      (7521, \"WARD\", 30),\n",
        "      (7566, \"JONES\", 20),\n",
        "      (7698, \"BLAKE\", 30),\n",
        "      (7782, \"CLARK\", 10),\n",
        "      (7788, \"SCOTT\", 20),\n",
        "      (7839, \"KING\", 10),\n",
        "      (7844, \"TURNER\", 30),\n",
        "      (7876, \"ADAMS\", 20),\n",
        "      (7900, \"JAMES\", 30),\n",
        "      (7934, \"MILLER\", 10),\n",
        "      (7902, \"FORD\", 20),\n",
        "      (7654, \"MARTIN\", 30))\n",
        "\n",
        "// Save sample data in the Parquet format\n",
        "import spark.implicits._\n",
        "val empData: DataFrame = employees.toDF(\"empId\", \"empName\", \"deptId\")\n",
        "val deptData: DataFrame = departments.toDF(\"deptId\", \"deptName\", \"location\")\n",
        "\n",
        "val empLocation: String = \"/<yourpath>/employees.parquet\"       //TODO ** customize this location path **\n",
        "val deptLocation: String = \"/<yourpath>/departments.parquet\"     //TODO ** customize this location path **\n",
        "empData.write.mode(\"overwrite\").parquet(empLocation)\n",
        "deptData.write.mode(\"overwrite\").parquet(deptLocation)"
      ],
      "attachments": {}
    },
    {
      "cell_type": "markdown",
      "metadata": {},
      "source": [
        "Let's verify the contents of parquet files we created above to make sure they contain expected records in correct format. We later use these data files to create Hyperspace indexes and run sample queries.\n",
        "\n",
        "Running below cell, the output displays the rows in employee and department dataFrames in a tabular form. There should be 14 employees and 4 departments, each matching with one of triplets we created in the previous cell."
      ],
      "attachments": {}
    },
    {
      "cell_type": "code",
      "execution_count": 5,
      "outputs": [
        {
          "output_type": "execute_result",
          "data": {
            "text/plain": "empDF: org.apache.spark.sql.DataFrame = [empId: int, empName: string ... 1 more field]\ndeptDF: org.apache.spark.sql.DataFrame = [deptId: int, deptName: string ... 1 more field]\n+-----+-------+------+\n|empId|empName|deptId|\n+-----+-------+------+\n| 7499|  ALLEN|    30|\n| 7521|   WARD|    30|\n| 7369|  SMITH|    20|\n| 7844| TURNER|    30|\n| 7876|  ADAMS|    20|\n| 7900|  JAMES|    30|\n| 7934| MILLER|    10|\n| 7839|   KING|    10|\n| 7566|  JONES|    20|\n| 7698|  BLAKE|    30|\n| 7782|  CLARK|    10|\n| 7788|  SCOTT|    20|\n| 7902|   FORD|    20|\n| 7654| MARTIN|    30|\n+-----+-------+------+\n\n+------+----------+--------+\n|deptId|  deptName|location|\n+------+----------+--------+\n|    10|Accounting|New York|\n|    40|Operations|  Boston|\n|    20|  Research|  Dallas|\n|    30|     Sales| Chicago|\n+------+----------+--------+"
          },
          "execution_count": 5,
          "metadata": {}
        }
      ],
      "metadata": {},
      "source": [
        "// empLocation and deptLocation are the user defined locations above to save parquet files\n",
        "val empDF: DataFrame = spark.read.parquet(empLocation)\n",
        "val deptDF: DataFrame = spark.read.parquet(deptLocation)\n",
        "\n",
        "// Verify the data is available and correct\n",
        "empDF.show()\n",
        "deptDF.show()"
      ],
      "attachments": {}
    },
    {
      "cell_type": "markdown",
      "metadata": {},
      "source": [
        "## Hello Hyperspace Index!\n",
        "Hyperspace lets users create indexes on records scanned from persisted data files. Once successfully created, an entry corresponding to the index is added to the Hyperspace's metadata. This metadata is later used by Apache Spark™'s optimizer (with our extensions) during query processing to find and use proper indexes. \n",
        "\n",
        "Once indexes are created, users can perform several actions:\n",
        "  - **Refresh** If the underlying data changes, users can refresh an existing index to capture that. \n",
        "  - **Delete** If the index is not needed, users can perform a soft-delete i.e., index is not physically deleted but is marked as 'deleted' so it is no longer used in your workloads.\n",
        "  - **Vacuum** If an index is no longer required, users can vacuum it which forces a physical deletion of the index contents and associated metadata completely from Hyperspace's metadata.\n",
        "\n",
        "Below sections show how such index management operations can be done in Hyperspace.\n",
        "\n",
        "First, we need to import the required libraries and create an instance of Hyperspace. We later use this instance to invoke different Hyperspace APIs to create indexes on our sample data and modify those indexes.\n",
        "\n",
        "Output of running below cell shows a reference to the created instance of Hyperspace."
      ],
      "attachments": {}
    },
    {
      "cell_type": "code",
      "execution_count": 6,
      "outputs": [
        {
          "output_type": "execute_result",
          "data": {
            "text/plain": "import com.microsoft.hyperspace._\nhyperspace: com.microsoft.hyperspace.Hyperspace = com.microsoft.hyperspace.Hyperspace@1432f740"
          },
          "execution_count": 6,
          "metadata": {}
        }
      ],
      "metadata": {},
      "source": [
        "// Create an instance of Hyperspace\n",
        "import com.microsoft.hyperspace._\n",
        "\n",
        "val hyperspace: Hyperspace = Hyperspace()"
      ],
      "attachments": {}
    },
    {
      "cell_type": "markdown",
      "metadata": {},
      "source": [
        "### Create Indexes\n",
        "To create a Hyperspace index, the user needs to provide 2 pieces of information:\n",
        "* An Apache Spark™ DataFrame which references the data to be indexed.\n",
        "* An index configuration object: IndexConfig, which specifies the *index name*, *indexed* and *included* columns of the index. \n",
        "\n",
        "We start by creating three Hyperspace indexes on our sample data: two indexes on the department dataset named \"deptIndex1\" and \"deptIndex2\", and one index on the employee dataset named 'empIndex'. \n",
        "For each index, we need a corresponding IndexConfig to capture the name along with columns lists for the indexed and included columns. Running below cell creates these indexConfigs and its output lists them.\n",
        "\n",
        "**Note**: An *index column* is a column that appears in your filters or join conditions. An *included column* is a column that appears in your select/project.\n",
        "\n",
        "For instance, in the following query:\n",
        "```sql\n",
        "SELECT X\n",
        "FROM Table\n",
        "WHERE Y = 2\n",
        "```\n",
        "X can be an *index column* and Y can be an *included column*."
      ],
      "attachments": {}
    },
    {
      "cell_type": "code",
      "execution_count": 7,
      "outputs": [
        {
          "output_type": "execute_result",
          "data": {
            "text/plain": "import com.microsoft.hyperspace.index.IndexConfig\nempIndexConfig: com.microsoft.hyperspace.index.IndexConfig = [indexName: empIndex; indexedColumns: deptid; includedColumns: empname]\ndeptIndexConfig1: com.microsoft.hyperspace.index.IndexConfig = [indexName: deptIndex1; indexedColumns: deptid; includedColumns: deptname]\ndeptIndexConfig2: com.microsoft.hyperspace.index.IndexConfig = [indexName: deptIndex2; indexedColumns: location; includedColumns: deptname]"
          },
          "execution_count": 7,
          "metadata": {}
        }
      ],
      "metadata": {},
      "source": [
        "// Create index configurations\n",
        "import com.microsoft.hyperspace.index.IndexConfig\n",
        "\n",
        "val empIndexConfig: IndexConfig = IndexConfig(\"empIndex\", Seq(\"deptId\"), Seq(\"empName\"))\n",
        "val deptIndexConfig1: IndexConfig = IndexConfig(\"deptIndex1\", Seq(\"deptId\"), Seq(\"deptName\"))\n",
        "val deptIndexConfig2: IndexConfig = IndexConfig(\"deptIndex2\", Seq(\"location\"), Seq(\"deptName\"))"
      ],
      "attachments": {}
    },
    {
      "cell_type": "markdown",
      "metadata": {},
      "source": [
        "Now, we create three indexes using our index configurations. For this purpose, we invoke \"createIndex\" command on our Hyperspace instance. This command requires an index configuration and the dataFrame containing rows to be indexed.\n",
        "Running below cell creates three indexes.\n",
        ""
      ],
      "attachments": {}
    },
    {
      "cell_type": "code",
      "execution_count": 8,
      "outputs": [
        {
          "output_type": "execute_result",
          "data": {
            "text/plain": "import com.microsoft.hyperspace.index.Index"
          },
          "execution_count": 8,
          "metadata": {}
        }
      ],
      "metadata": {},
      "source": [
        "// Create indexes from configurations\n",
        "import com.microsoft.hyperspace.index.Index\n",
        "\n",
        "hyperspace.createIndex(empDF, empIndexConfig)\n",
        "hyperspace.createIndex(deptDF, deptIndexConfig1)\n",
        "hyperspace.createIndex(deptDF, deptIndexConfig2)"
      ],
      "attachments": {}
    },
    {
      "cell_type": "markdown",
      "metadata": {},
      "source": [
        "### List Indexes\n",
        "\n",
        "Below code shows how a user can list all available indexes in a Hyperspace instance. It uses \"indexes\" API which returns information about existing indexes as a Spark™'s DataFrame so you can perform additional operations. For instance, you can invoke valid operations on this DataFrame for checking its content or analyzing it further (for example filtering specific indexes or grouping them according to some desired property). \n",
        "\n",
        "Below cell uses DataFrame's 'show' action to fully print the rows and show details of our indexes in a tabular form. For each index, we can see all information Hyperspace has stored about it in the metadata. You will immediately notice the following:\n",
        "  - \"config.indexName\", \"config.indexedColumns\", \"config.includedColumns\" and \"status.status\" are the fields that a user normally refers to. \n",
        "  - \"dfSignature\" is automatically generated by Hyperspace and is unique for each index. Hyperspace uses this signature internally to maintain the index and exploit it at query time. \n",
        "  \n",
        "In the output below, all three indexes should have \"ACTIVE\" as status and their name, indexed columns, and included columns should match with what we defined in index configurations above.\n",
        ""
      ],
      "attachments": {}
    },
    {
      "cell_type": "code",
      "execution_count": 9,
      "outputs": [
        {
          "output_type": "execute_result",
          "data": {
            "text/plain": "+----------------+---------------------+----------------------+--------------------+--------------------+--------------------+--------------------+----------+--------------------+------------+---------------+\n|config.indexName|config.indexedColumns|config.includedColumns|        schemaString|   signatureProvider|         dfSignature|      serializedPlan|numBuckets|             dirPath|status.value|stats.indexSize|\n+----------------+---------------------+----------------------+--------------------+--------------------+--------------------+--------------------+----------+--------------------+------------+---------------+\n|      deptIndex1|             [deptId]|            [deptName]|`deptId` INT,`dep...|com.microsoft.cha...|0effc1610ae2e7c49...|Relation[deptId#3...|       200|abfss://datasets@...|      ACTIVE|              0|\n|      deptIndex2|           [location]|            [deptName]|`location` STRING...|com.microsoft.cha...|0effc1610ae2e7c49...|Relation[deptId#3...|       200|abfss://datasets@...|      ACTIVE|              0|\n|        empIndex|             [deptId]|             [empName]|`deptId` INT,`emp...|com.microsoft.cha...|30768c6c9b2533004...|Relation[empId#32...|       200|abfss://datasets@...|      ACTIVE|              0|\n+----------------+---------------------+----------------------+--------------------+--------------------+--------------------+--------------------+----------+--------------------+------------+---------------+"
          },
          "execution_count": 9,
          "metadata": {}
        }
      ],
      "metadata": {},
      "source": [
        "hyperspace.indexes.show"
      ],
      "attachments": {}
    },
    {
      "cell_type": "markdown",
      "metadata": {},
      "source": [
        "### Delete Indexes\n",
        "A user can drop an existing index by using the \"deleteIndex\" API and providing the index name. Index deletion does a soft delete: It mainly updates index's status in the Hyperspace metadata from \"ACTIVE\" to \"DELETED\". This will exclude the dropped index from any future query optimization and Hyperspace no longer picks that index for any query. However, index files for a deleted index still remain available (since it is a soft-delete), so that the index could be restored if user asks for.\n",
        "\n",
        "Below cell deletes index with name \"deptIndex2\" and lists Hyperspace metadata after that. The output should be similar to above cell for \"List Indexes\" except for \"deptIndex2\" which now should have its status changed into \"DELETED\"."
      ],
      "attachments": {}
    },
    {
      "cell_type": "code",
      "execution_count": 10,
      "outputs": [
        {
          "output_type": "execute_result",
          "data": {
            "text/plain": "+----------------+---------------------+----------------------+--------------------+--------------------+--------------------+--------------------+----------+--------------------+------------+---------------+\n|config.indexName|config.indexedColumns|config.includedColumns|        schemaString|   signatureProvider|         dfSignature|      serializedPlan|numBuckets|             dirPath|status.value|stats.indexSize|\n+----------------+---------------------+----------------------+--------------------+--------------------+--------------------+--------------------+----------+--------------------+------------+---------------+\n|      deptIndex1|             [deptId]|            [deptName]|`deptId` INT,`dep...|com.microsoft.cha...|0effc1610ae2e7c49...|Relation[deptId#3...|       200|abfss://datasets@...|      ACTIVE|              0|\n|      deptIndex2|           [location]|            [deptName]|`location` STRING...|com.microsoft.cha...|0effc1610ae2e7c49...|Relation[deptId#3...|       200|abfss://datasets@...|     DELETED|              0|\n|        empIndex|             [deptId]|             [empName]|`deptId` INT,`emp...|com.microsoft.cha...|30768c6c9b2533004...|Relation[empId#32...|       200|abfss://datasets@...|      ACTIVE|              0|\n+----------------+---------------------+----------------------+--------------------+--------------------+--------------------+--------------------+----------+--------------------+------------+---------------+"
          },
          "execution_count": 10,
          "metadata": {}
        }
      ],
      "metadata": {},
      "source": [
        "hyperspace.deleteIndex(\"deptIndex2\")\n",
        "\n",
        "hyperspace.indexes.show"
      ],
      "attachments": {}
    },
    {
      "cell_type": "markdown",
      "metadata": {},
      "source": [
        "### Restore Indexes\n",
        "A user can use the \"restoreIndex\" API to restore a deleted index. This will bring back the latest version of index into ACTIVE status and makes it usable again for queries. Below cell shows an example of \"restoreIndex\" usage. We delete \"deptIndex1\" and restore it. The output shows \"deptIndex1\" first went into the \"DELETED\" status after invoking \"deleteIndex\" command and came back to the \"ACTIVE\" status after calling \"restoreIndex\".\n",
        ""
      ],
      "attachments": {}
    },
    {
      "cell_type": "code",
      "execution_count": 11,
      "outputs": [
        {
          "output_type": "execute_result",
          "data": {
            "text/plain": "+----------------+---------------------+----------------------+--------------------+--------------------+--------------------+--------------------+----------+--------------------+------------+---------------+\n|config.indexName|config.indexedColumns|config.includedColumns|        schemaString|   signatureProvider|         dfSignature|      serializedPlan|numBuckets|             dirPath|status.value|stats.indexSize|\n+----------------+---------------------+----------------------+--------------------+--------------------+--------------------+--------------------+----------+--------------------+------------+---------------+\n|      deptIndex1|             [deptId]|            [deptName]|`deptId` INT,`dep...|com.microsoft.cha...|0effc1610ae2e7c49...|Relation[deptId#3...|       200|abfss://datasets@...|     DELETED|              0|\n|      deptIndex2|           [location]|            [deptName]|`location` STRING...|com.microsoft.cha...|0effc1610ae2e7c49...|Relation[deptId#3...|       200|abfss://datasets@...|     DELETED|              0|\n|        empIndex|             [deptId]|             [empName]|`deptId` INT,`emp...|com.microsoft.cha...|30768c6c9b2533004...|Relation[empId#32...|       200|abfss://datasets@...|      ACTIVE|              0|\n+----------------+---------------------+----------------------+--------------------+--------------------+--------------------+--------------------+----------+--------------------+------------+---------------+\n\n+----------------+---------------------+----------------------+--------------------+--------------------+--------------------+--------------------+----------+--------------------+------------+---------------+\n|config.indexName|config.indexedColumns|config.includedColumns|        schemaString|   signatureProvider|         dfSignature|      serializedPlan|numBuckets|             dirPath|status.value|stats.indexSize|\n+----------------+---------------------+----------------------+--------------------+--------------------+--------------------+--------------------+----------+--------------------+------------+---------------+\n|      deptIndex1|             [deptId]|            [deptName]|`deptId` INT,`dep...|com.microsoft.cha...|0effc1610ae2e7c49...|Relation[deptId#3...|       200|abfss://datasets@...|      ACTIVE|              0|\n|      deptIndex2|           [location]|            [deptName]|`location` STRING...|com.microsoft.cha...|0effc1610ae2e7c49...|Relation[deptId#3...|       200|abfss://datasets@...|     DELETED|              0|\n|        empIndex|             [deptId]|             [empName]|`deptId` INT,`emp...|com.microsoft.cha...|30768c6c9b2533004...|Relation[empId#32...|       200|abfss://datasets@...|      ACTIVE|              0|\n+----------------+---------------------+----------------------+--------------------+--------------------+--------------------+--------------------+----------+--------------------+------------+---------------+"
          },
          "execution_count": 11,
          "metadata": {}
        }
      ],
      "metadata": {},
      "source": [
        "hyperspace.deleteIndex(\"deptIndex1\")\n",
        "\n",
        "hyperspace.indexes.show\n",
        "\n",
        "hyperspace.restoreIndex(\"deptIndex1\")\n",
        "\n",
        "hyperspace.indexes.show"
      ],
      "attachments": {}
    },
    {
      "cell_type": "markdown",
      "metadata": {},
      "source": [
        "### Vacuum Indexes\n",
        "The user can perform a hard-delete i.e., fully remove files and the metadata entry for a deleted index using \"vacuumIndex\" command. Once done, this action is irreversible as it physically deletes all the index files (which is why it is a hard-delete).\n",
        " \n",
        "The cell below vacuums the \"deptIndex2\" index and shows Hyperspace metadata after vaccuming. You should see metadata entries for two indexes \"deptIndex1\" and \"empIndex\" both with \"ACTIVE\" status and no entry for \"deptIndex2\"."
      ],
      "attachments": {}
    },
    {
      "cell_type": "code",
      "execution_count": 12,
      "outputs": [
        {
          "output_type": "execute_result",
          "data": {
            "text/plain": "+----------------+---------------------+----------------------+--------------------+--------------------+--------------------+--------------------+----------+--------------------+------------+---------------+\n|config.indexName|config.indexedColumns|config.includedColumns|        schemaString|   signatureProvider|         dfSignature|      serializedPlan|numBuckets|             dirPath|status.value|stats.indexSize|\n+----------------+---------------------+----------------------+--------------------+--------------------+--------------------+--------------------+----------+--------------------+------------+---------------+\n|      deptIndex1|             [deptId]|            [deptName]|`deptId` INT,`dep...|com.microsoft.cha...|0effc1610ae2e7c49...|Relation[deptId#3...|       200|abfss://datasets@...|      ACTIVE|              0|\n|        empIndex|             [deptId]|             [empName]|`deptId` INT,`emp...|com.microsoft.cha...|30768c6c9b2533004...|Relation[empId#32...|       200|abfss://datasets@...|      ACTIVE|              0|\n+----------------+---------------------+----------------------+--------------------+--------------------+--------------------+--------------------+----------+--------------------+------------+---------------+"
          },
          "execution_count": 12,
          "metadata": {}
        }
      ],
      "metadata": {},
      "source": [
        "hyperspace.vacuumIndex(\"deptIndex2\")\n",
        "\n",
        "hyperspace.indexes.show"
      ],
      "attachments": {}
    },
    {
      "cell_type": "markdown",
      "metadata": {},
      "source": [
        "## Enable/Disable Hyperspace\n",
        "\n",
        "Hyperspace provides APIs to enable or disable index usage with Spark™.\n",
        "\n",
        "  - By using \"enableHyperspace\" command, Hyperspace optimization rules become visible to the Apache Spark™ optimizer and they will exploit existing Hyperspace indexes to optimize user queries.\n",
        "  - By using \"disableHyperspace' command, Hyperspace rules no longer apply during query optimization. You should note that disabling Hyperspace has no impact on created indexes as they remain intact.\n",
        "\n",
        "Below cell shows how you can use these commands to enable or disable hyperspace. The output simply shows a reference to the existing Spark™ session whose configuration is updated."
      ],
      "attachments": {}
    },
    {
      "cell_type": "code",
      "execution_count": 13,
      "outputs": [
        {
          "output_type": "execute_result",
          "data": {
            "text/plain": "res48: org.apache.spark.sql.Spark™Session = org.apache.spark.sql.Spark™Session@39fe1ddb\nres51: org.apache.spark.sql.Spark™Session = org.apache.spark.sql.Spark™Session@39fe1ddb"
          },
          "execution_count": 13,
          "metadata": {}
        }
      ],
      "metadata": {},
      "source": [
        "// Enable Hyperspace\n",
        "spark.enableHyperspace\n",
        "\n",
        "// Disable Hyperspace\n",
        "spark.disableHyperspace"
      ],
      "attachments": {}
    },
    {
      "cell_type": "markdown",
      "metadata": {},
      "source": [
        "## Index Usage\n",
        "In order to make Spark™ use Hyperspace indexes during query processing, the user needs to make sure that Hyperspace is enabled. \n",
        "\n",
        "The cell below enables Hyperspace and creates two DataFrames containing our sample data records which we use for running example queries. For each DataFrame, a few sample rows are printed."
      ],
      "attachments": {}
    },
    {
      "cell_type": "code",
      "execution_count": 14,
      "outputs": [
        {
          "output_type": "execute_result",
          "data": {
            "text/plain": "res53: org.apache.spark.sql.Spark™Session = org.apache.spark.sql.Spark™Session@39fe1ddb\nempDFrame: org.apache.spark.sql.DataFrame = [empId: int, empName: string ... 1 more field]\ndeptDFrame: org.apache.spark.sql.DataFrame = [deptId: int, deptName: string ... 1 more field]\n+-----+-------+------+\n|empId|empName|deptId|\n+-----+-------+------+\n| 7499|  ALLEN|    30|\n| 7521|   WARD|    30|\n| 7369|  SMITH|    20|\n| 7844| TURNER|    30|\n| 7876|  ADAMS|    20|\n+-----+-------+------+\nonly showing top 5 rows\n\n+------+----------+--------+\n|deptId|  deptName|location|\n+------+----------+--------+\n|    10|Accounting|New York|\n|    40|Operations|  Boston|\n|    20|  Research|  Dallas|\n|    30|     Sales| Chicago|\n+------+----------+--------+"
          },
          "execution_count": 14,
          "metadata": {}
        }
      ],
      "metadata": {},
      "source": [
        "// Enable Hyperspace\n",
        "spark.enableHyperspace\n",
        "\n",
        "val empDFrame: DataFrame = spark.read.parquet(empLocation)\n",
        "val deptDFrame: DataFrame = spark.read.parquet(deptLocation)\n",
        "\n",
        "empDFrame.show(5)\n",
        "deptDFrame.show(5)"
      ],
      "attachments": {}
    },
    {
      "cell_type": "markdown",
      "metadata": {},
      "source": [
        "# Hyperspace's Index Types\n",
        "\n",
        "Currently, Hyperspace has rules to exploit indexes for two groups of queries: \n",
        "* Selection queries with lookup or range selection filtering predicates.\n",
        "* Join queries with an equality join predicate (i.e. Equi-joins).\n",
        ""
      ],
      "attachments": {}
    },
    {
      "cell_type": "markdown",
      "metadata": {},
      "source": [
        "## Indexes for Accelerating Filters\n",
        "\n",
        "Our first example query does a lookup on department records (see below cell). In SQL, this query looks as follows:\n",
        "\n",
        "```sql\n",
        "SELECT deptName \n",
        "FROM departments\n",
        "WHERE deptId = 20\n",
        "```\n",
        "\n",
        "The output of running the cell below shows: \n",
        "- query result, which is a single department name.\n",
        "- query plan that Spark™ used to run the query. \n",
        "\n",
        "In the query plan, the \"FileScan\" operator at the bottom of the plan shows the datasource where the records were read from. The location of this file indicates the path to the latest version of the \"deptIndex1\" index. This shows  that according to the query and using Hyperspace optimization rules, Spark™ decided to exploit the proper index at runtime.\n",
        ""
      ],
      "attachments": {}
    },
    {
      "cell_type": "code",
      "execution_count": 15,
      "outputs": [
        {
          "output_type": "execute_result",
          "data": {
            "text/plain": "eqFilter: org.apache.spark.sql.DataFrame = [deptName: string]\n+--------+\n|deptName|\n+--------+\n|Research|\n+--------+\n\n== Parsed Logical Plan ==\n'Project [unresolvedalias('deptName, None)]\n+- Filter (deptId#533 = 20)\n   +- Relation[deptId#533,deptName#534,location#535] parquet\n\n== Analyzed Logical Plan ==\ndeptName: string\nProject [deptName#534]\n+- Filter (deptId#533 = 20)\n   +- Relation[deptId#533,deptName#534,location#535] parquet\n\n== Optimized Logical Plan ==\nProject [deptName#534]\n+- Filter (isnotnull(deptId#533) && (deptId#533 = 20))\n   +- Relation[deptId#533,deptName#534,location#535] parquet\n\n== Physical Plan ==\n*(1) Project [deptName#534]\n+- *(1) Filter (isnotnull(deptId#533) && (deptId#533 = 20))\n   +- *(1) FileScan parquet [deptId#533,deptName#534] Batched: true, Format: Parquet, Location: InMemoryFileIndex[abfss://datasets@hyperspacebenchmark.dfs.core.windows.net/hyperspaceon..., PartitionFilters: [], PushedFilters: [IsNotNull(deptId), EqualTo(deptId,20)], ReadSchema: struct<deptId:int,deptName:string>"
          },
          "execution_count": 15,
          "metadata": {}
        }
      ],
      "metadata": {},
      "source": [
        "// Filter with equality predicate\n",
        "\n",
        "val eqFilter: DataFrame = deptDFrame.filter(\"deptId = 20\").select(\"deptName\")\n",
        "eqFilter.show()\n",
        "\n",
        "eqFilter.explain(true)"
      ],
      "attachments": {}
    },
    {
      "cell_type": "markdown",
      "metadata": {},
      "source": [
        "Our second example is a range selection query on department records. In SQL, this query looks as follows:\n",
        "\n",
        "```sql\n",
        "SELECT deptName \n",
        "FROM departments\n",
        "WHERE deptId > 20\"\n",
        "```\n",
        "Similar to our first example, the output of the cell below shows the query results (names of two departments) and the query plan. The location of data file in the FileScan operator shows that 'deptIndex1\" was used to run the query.   \n",
        ""
      ],
      "attachments": {}
    },
    {
      "cell_type": "code",
      "execution_count": 16,
      "outputs": [
        {
          "output_type": "execute_result",
          "data": {
            "text/plain": "rangeFilter: org.apache.spark.sql.DataFrame = [deptName: string]\n+----------+\n|  deptName|\n+----------+\n|Operations|\n|     Sales|\n+----------+\n\n== Parsed Logical Plan ==\n'Project [unresolvedalias('deptName, None)]\n+- Filter (deptId#533 > 20)\n   +- Relation[deptId#533,deptName#534,location#535] parquet\n\n== Analyzed Logical Plan ==\ndeptName: string\nProject [deptName#534]\n+- Filter (deptId#533 > 20)\n   +- Relation[deptId#533,deptName#534,location#535] parquet\n\n== Optimized Logical Plan ==\nProject [deptName#534]\n+- Filter (isnotnull(deptId#533) && (deptId#533 > 20))\n   +- Relation[deptId#533,deptName#534,location#535] parquet\n\n== Physical Plan ==\n*(1) Project [deptName#534]\n+- *(1) Filter (isnotnull(deptId#533) && (deptId#533 > 20))\n   +- *(1) FileScan parquet [deptId#533,deptName#534] Batched: true, Format: Parquet, Location: InMemoryFileIndex[abfss://datasets@hyperspacebenchmark.dfs.core.windows.net/hyperspaceon..., PartitionFilters: [], PushedFilters: [IsNotNull(deptId), GreaterThan(deptId,20)], ReadSchema: struct<deptId:int,deptName:string>"
          },
          "execution_count": 16,
          "metadata": {}
        }
      ],
      "metadata": {},
      "source": [
        "// Filter with range selection predicate\n",
        "\n",
        "val rangeFilter: DataFrame = deptDFrame.filter(\"deptId > 20\").select(\"deptName\")\n",
        "rangeFilter.show()\n",
        "\n",
        "rangeFilter.explain(true)"
      ],
      "attachments": {}
    },
    {
      "cell_type": "markdown",
      "metadata": {},
      "source": [
        "Our third example is a query joining department and employee records on the department id. The equivalent SQL statement is shown below:\n",
        "\n",
        "```sql\n",
        "SELECT employees.deptId, empName, departments.deptId, deptName\n",
        "FROM   employees, departments \n",
        "WHERE  employees.deptId = departments.deptId\"\n",
        "```\n",
        "\n",
        "The output of running the cell below shows the query results which are the names of 14 employees and the name of department each employee works in. The query plan is also included in the output. Notice how the file locations for two FileScan operators shows that Spark™ used \"empIndex\" and \"deptIndex1\" indexes to run the query.   \n",
        ""
      ],
      "attachments": {}
    },
    {
      "cell_type": "code",
      "execution_count": 17,
      "outputs": [
        {
          "output_type": "execute_result",
          "data": {
            "text/plain": "eqJoin: org.apache.spark.sql.DataFrame = [empName: string, deptName: string]\n+-------+----------+\n|empName|  deptName|\n+-------+----------+\n|  SMITH|  Research|\n|  JONES|  Research|\n|   FORD|  Research|\n|  ADAMS|  Research|\n|  SCOTT|  Research|\n|   KING|Accounting|\n|  CLARK|Accounting|\n| MILLER|Accounting|\n|  JAMES|     Sales|\n|  BLAKE|     Sales|\n| MARTIN|     Sales|\n|  ALLEN|     Sales|\n|   WARD|     Sales|\n| TURNER|     Sales|\n+-------+----------+\n\n== Parsed Logical Plan ==\nProject [empName#528, deptName#534]\n+- Join Inner, (deptId#529 = deptId#533)\n   :- Relation[empId#527,empName#528,deptId#529] parquet\n   +- Relation[deptId#533,deptName#534,location#535] parquet\n\n== Analyzed Logical Plan ==\nempName: string, deptName: string\nProject [empName#528, deptName#534]\n+- Join Inner, (deptId#529 = deptId#533)\n   :- Relation[empId#527,empName#528,deptId#529] parquet\n   +- Relation[deptId#533,deptName#534,location#535] parquet\n\n== Optimized Logical Plan ==\nProject [empName#528, deptName#534]\n+- Join Inner, (deptId#529 = deptId#533)\n   :- Project [empName#528, deptId#529]\n   :  +- Filter isnotnull(deptId#529)\n   :     +- Relation[empName#528,deptId#529] parquet\n   +- Project [deptId#533, deptName#534]\n      +- Filter isnotnull(deptId#533)\n         +- Relation[deptId#533,deptName#534] parquet\n\n== Physical Plan ==\n*(3) Project [empName#528, deptName#534]\n+- *(3) SortMergeJoin [deptId#529], [deptId#533], Inner\n   :- *(1) Project [empName#528, deptId#529]\n   :  +- *(1) Filter isnotnull(deptId#529)\n   :     +- *(1) FileScan parquet [deptId#529,empName#528] Batched: true, Format: Parquet, Location: InMemoryFileIndex[abfss://datasets@hyperspacebenchmark.dfs.core.windows.net/hyperspaceon..., PartitionFilters: [], PushedFilters: [IsNotNull(deptId)], ReadSchema: struct<deptId:int,empName:string>, SelectedBucketsCount: 200 out of 200\n   +- *(2) Project [deptId#533, deptName#534]\n      +- *(2) Filter isnotnull(deptId#533)\n         +- *(2) FileScan parquet [deptId#533,deptName#534] Batched: true, Format: Parquet, Location: InMemoryFileIndex[abfss://datasets@hyperspacebenchmark.dfs.core.windows.net/hyperspaceon..., PartitionFilters: [], PushedFilters: [IsNotNull(deptId)], ReadSchema: struct<deptId:int,deptName:string>, SelectedBucketsCount: 200 out of 200"
          },
          "execution_count": 17,
          "metadata": {}
        }
      ],
      "metadata": {},
      "source": [
        "// Join\n",
        "\n",
        "val eqJoin: DataFrame =\n",
        "      empDFrame.\n",
        "      join(deptDFrame, empDFrame(\"deptId\") === deptDFrame(\"deptId\")).\n",
        "      select(empDFrame(\"empName\"), deptDFrame(\"deptName\"))\n",
        "\n",
        "eqJoin.show()\n",
        "\n",
        "eqJoin.explain(true)"
      ],
      "attachments": {}
    },
    {
      "cell_type": "markdown",
      "metadata": {},
      "source": [
        "## Support for SQL Semantics\n",
        "\n",
        "The index usage is transparent to whether the user uses DataFrame API or Spark™ SQL. The following example shows the same join example as before, in sql form, showing the use of indexes if applicable."
      ],
      "attachments": {}
    },
    {
      "cell_type": "code",
      "execution_count": 18,
      "outputs": [
        {
          "output_type": "execute_result",
          "data": {
            "text/plain": "joinQuery: org.apache.spark.sql.DataFrame = [empName: string, deptName: string]\n+-------+----------+\n|empName|  deptName|\n+-------+----------+\n|  SMITH|  Research|\n|  JONES|  Research|\n|   FORD|  Research|\n|  ADAMS|  Research|\n|  SCOTT|  Research|\n|   KING|Accounting|\n|  CLARK|Accounting|\n| MILLER|Accounting|\n|  JAMES|     Sales|\n|  BLAKE|     Sales|\n| MARTIN|     Sales|\n|  ALLEN|     Sales|\n|   WARD|     Sales|\n| TURNER|     Sales|\n+-------+----------+\n\n== Parsed Logical Plan ==\n'Project ['EMP.empName, 'DEPT.deptName]\n+- 'Filter ('EMP.deptId = 'DEPT.deptId)\n   +- 'Join Inner\n      :- 'UnresolvedRelation `EMP`\n      +- 'UnresolvedRelation `DEPT`\n\n== Analyzed Logical Plan ==\nempName: string, deptName: string\nProject [empName#528, deptName#534]\n+- Filter (deptId#529 = deptId#533)\n   +- Join Inner\n      :- SubqueryAlias `emp`\n      :  +- Relation[empId#527,empName#528,deptId#529] parquet\n      +- SubqueryAlias `dept`\n         +- Relation[deptId#533,deptName#534,location#535] parquet\n\n== Optimized Logical Plan ==\nProject [empName#528, deptName#534]\n+- Join Inner, (deptId#529 = deptId#533)\n   :- Project [empName#528, deptId#529]\n   :  +- Filter isnotnull(deptId#529)\n   :     +- Relation[empId#527,empName#528,deptId#529] parquet\n   +- Project [deptId#533, deptName#534]\n      +- Filter isnotnull(deptId#533)\n         +- Relation[deptId#533,deptName#534,location#535] parquet\n\n== Physical Plan ==\n*(5) Project [empName#528, deptName#534]\n+- *(5) SortMergeJoin [deptId#529], [deptId#533], Inner\n   :- *(2) Sort [deptId#529 ASC NULLS FIRST], false, 0\n   :  +- Exchange hashpartitioning(deptId#529, 200)\n   :     +- *(1) Project [empName#528, deptId#529]\n   :        +- *(1) Filter isnotnull(deptId#529)\n   :           +- *(1) FileScan parquet [deptId#529,empName#528] Batched: true, Format: Parquet, Location: InMemoryFileIndex[abfss://datasets@hyperspacebenchmark.dfs.core.windows.net/hyperspaceon..., PartitionFilters: [], PushedFilters: [IsNotNull(deptId)], ReadSchema: struct<deptId:int,empName:string>\n   +- *(4) Sort [deptId#533 ASC NULLS FIRST], false, 0\n      +- Exchange hashpartitioning(deptId#533, 200)\n         +- *(3) Project [deptId#533, deptName#534]\n            +- *(3) Filter isnotnull(deptId#533)\n               +- *(3) FileScan parquet [deptId#533,deptName#534] Batched: true, Format: Parquet, Location: InMemoryFileIndex[abfss://datasets@hyperspacebenchmark.dfs.core.windows.net/your-path/departments.parquet], PartitionFilters: [], PushedFilters: [IsNotNull(deptId)], ReadSchema: struct<deptId:int,deptName:string>"
          },
          "execution_count": 18,
          "metadata": {}
        }
      ],
      "metadata": {},
      "source": [
        "empDFrame.createOrReplaceTempView(\"EMP\")\n",
        "deptDFrame.createOrReplaceTempView(\"DEPT\")\n",
        "\n",
        "val joinQuery = spark.sql(\"SELECT EMP.empName, DEPT.deptName FROM EMP, DEPT WHERE EMP.deptId = DEPT.deptId\")\n",
        "\n",
        "joinQuery.show()\n",
        "joinQuery.explain(true)"
      ],
      "attachments": {}
    },
    {
      "cell_type": "markdown",
      "metadata": {},
      "source": [
        "## Explain API\n",
        "Indexes are great but how do you know if they are being used? Hyperspace allows users to compare their original plan vs the updated index-dependent plan before running their query. You have an option to choose from html/plaintext/console mode to display the command output. \n",
        "\n",
        "The following cell shows an example with HTML. The highlighted section represents the difference between original and updated plans along with the indexes being used."
      ],
      "attachments": {}
    },
    {
      "cell_type": "code",
      "execution_count": 19,
      "outputs": [
        {
          "output_type": "execute_result",
          "data": {
            "text/html": "<pre>=============================================================<br>Plan with indexes:<br>=============================================================<br>Project [empName#528, deptName#534]<br>+- SortMergeJoin [deptId#529], [deptId#533], Inner<br>   <b style=\"background:LightGreen\">:- *(1) Project [empName#528, deptId#529]</b><br>   <b style=\"background:LightGreen\">:  +- *(1) Filter isnotnull(deptId#529)</b><br>   <b style=\"background:LightGreen\">:     +- *(1) FileScan parquet [deptId#529,empName#528] Batched: true, Format: Parquet, Location: InMemoryFileIndex[abfss://datasets@hyperspacebenchmark.dfs.core.windows.net/hyperspaceon..., PartitionFilters: [], PushedFilters: [IsNotNull(deptId)], ReadSchema: struct<deptId:int,empName:string>, SelectedBucketsCount: 200 out of 200</b><br>   <b style=\"background:LightGreen\">+- *(2) Project [deptId#533, deptName#534]</b><br>      <b style=\"background:LightGreen\">+- *(2) Filter isnotnull(deptId#533)</b><br>         <b style=\"background:LightGreen\">+- *(2) FileScan parquet [deptId#533,deptName#534] Batched: true, Format: Parquet, Location: InMemoryFileIndex[abfss://datasets@hyperspacebenchmark.dfs.core.windows.net/hyperspaceon..., PartitionFilters: [], PushedFilters: [IsNotNull(deptId)], ReadSchema: struct<deptId:int,deptName:string>, SelectedBucketsCount: 200 out of 200</b><br><br>=============================================================<br>Plan without indexes:<br>=============================================================<br>Project [empName#528, deptName#534]<br>+- SortMergeJoin [deptId#529], [deptId#533], Inner<br>   <b style=\"background:LightGreen\">:- *(2) Sort [deptId#529 ASC NULLS FIRST], false, 0</b><br>   <b style=\"background:LightGreen\">:  +- Exchange hashpartitioning(deptId#529, 200)</b><br>   <b style=\"background:LightGreen\">:     +- *(1) Project [empName#528, deptId#529]</b><br>   <b style=\"background:LightGreen\">:        +- *(1) Filter isnotnull(deptId#529)</b><br>   <b style=\"background:LightGreen\">:           +- *(1) FileScan parquet [empName#528,deptId#529] Batched: true, Format: Parquet, Location: InMemoryFileIndex[abfss://datasets@hyperspacebenchmark.dfs.core.windows.net/your-path/employees.parquet], PartitionFilters: [], PushedFilters: [IsNotNull(deptId)], ReadSchema: struct<empName:string,deptId:int></b><br>   <b style=\"background:LightGreen\">+- *(4) Sort [deptId#533 ASC NULLS FIRST], false, 0</b><br>      <b style=\"background:LightGreen\">+- Exchange hashpartitioning(deptId#533, 200)</b><br>         <b style=\"background:LightGreen\">+- *(3) Project [deptId#533, deptName#534]</b><br>            <b style=\"background:LightGreen\">+- *(3) Filter isnotnull(deptId#533)</b><br>               <b style=\"background:LightGreen\">+- *(3) FileScan parquet [deptId#533,deptName#534] Batched: true, Format: Parquet, Location: InMemoryFileIndex[abfss://datasets@hyperspacebenchmark.dfs.core.windows.net/your-path/departments.parquet], PartitionFilters: [], PushedFilters: [IsNotNull(deptId)], ReadSchema: struct<deptId:int,deptName:string></b><br><br>=============================================================<br>Indexes used:<br>=============================================================<br>deptIndex1:abfss://datasets@hyperspacebenchmark.dfs.core.windows.net/hyperspaceonbbc/indexes/public/deptIndex1/v__=0<br>empIndex:abfss://datasets@hyperspacebenchmark.dfs.core.windows.net/hyperspaceonbbc/indexes/public/empIndex/v__=0<br><br></pre>"
          },
          "execution_count": 19,
          "metadata": {}
        }
      ],
      "metadata": {},
      "source": [
        "spark.conf.set(\"spark.hyperspace.explain.displayMode\", \"html\")\n",
        "hyperspace.explain(eqJoin) { displayHTML }"
      ],
      "attachments": {}
    },
    {
      "cell_type": "markdown",
      "metadata": {},
      "source": [
        "## Refresh Indexes\n",
        "If the original data on which an index was created changes, then the index will no longer capture the latest state of data. The user can refresh such a stale index using \"refreshIndex\" command. This causes the index to be fully rebuilt and updates it according to the latest data records (don't worry, we will show you how to *incrementally refresh* your index in other notebooks).\n",
        "\n",
        "The two cells below show an example for this scenario:\n",
        "- First cell adds two more departments to the original departments data. It reads and prints list of departments to verify new departments are added correctly. The output shows 6 departments in total: four old ones and two new. Invoking \"refreshIndex\" updates \"deptIndex1\" so index captures new departments.\n",
        "- Second cell runs our range selection query example. The results should now contain four departments: two are the ones, seen before when we ran the query above, and two are the new departments we just added."
      ],
      "attachments": {}
    },
    {
      "cell_type": "code",
      "execution_count": 20,
      "outputs": [
        {
          "output_type": "execute_result",
          "data": {
            "text/plain": "extraDepartments: Seq[(Int, String, String)] = List((50,Inovation,Seattle), (60,Human Resources,San Francisco))\nextraDeptData: org.apache.spark.sql.DataFrame = [deptId: int, deptName: string ... 1 more field]\ndeptDFrameUpdated: org.apache.spark.sql.DataFrame = [deptId: int, deptName: string ... 1 more field]\n+------+---------------+-------------+\n|deptId|       deptName|     location|\n+------+---------------+-------------+\n|    60|Human Resources|San Francisco|\n|    10|     Accounting|     New York|\n|    50|      Inovation|      Seattle|\n|    40|     Operations|       Boston|\n|    20|       Research|       Dallas|\n|    30|          Sales|      Chicago|\n+------+---------------+-------------+"
          },
          "execution_count": 20,
          "metadata": {}
        }
      ],
      "metadata": {},
      "source": [
        "val extraDepartments = Seq(\n",
        "      (50, \"Inovation\", \"Seattle\"),\n",
        "\t  (60, \"Human Resources\", \"San Francisco\"))\n",
        "\t  \n",
        "val extraDeptData: DataFrame = extraDepartments.toDF(\"deptId\", \"deptName\", \"location\")\n",
        "extraDeptData.write.mode(\"Append\").parquet(deptLocation)\n",
        "\n",
        "val deptDFrameUpdated: DataFrame = spark.read.parquet(deptLocation)\n",
        "\n",
        "deptDFrameUpdated.show(10)\n",
        "\n",
        "hyperspace.refreshIndex(\"deptIndex1\")"
      ],
      "attachments": {}
    },
    {
      "cell_type": "code",
      "execution_count": 21,
      "outputs": [
        {
          "output_type": "execute_result",
          "data": {
            "text/plain": "newRangeFilter: org.apache.spark.sql.DataFrame = [deptName: string]\n+---------------+\n|       deptName|\n+---------------+\n|Human Resources|\n|      Inovation|\n|     Operations|\n|          Sales|\n+---------------+\n\n== Parsed Logical Plan ==\n'Project [unresolvedalias('deptName, None)]\n+- Filter (deptId#674 > 20)\n   +- Relation[deptId#674,deptName#675,location#676] parquet\n\n== Analyzed Logical Plan ==\ndeptName: string\nProject [deptName#675]\n+- Filter (deptId#674 > 20)\n   +- Relation[deptId#674,deptName#675,location#676] parquet\n\n== Optimized Logical Plan ==\nProject [deptName#675]\n+- Filter (isnotnull(deptId#674) && (deptId#674 > 20))\n   +- Relation[deptId#674,deptName#675,location#676] parquet\n\n== Physical Plan ==\n*(1) Project [deptName#675]\n+- *(1) Filter (isnotnull(deptId#674) && (deptId#674 > 20))\n   +- *(1) FileScan parquet [deptId#674,deptName#675] Batched: true, Format: Parquet, Location: InMemoryFileIndex[abfss://datasets@hyperspacebenchmark.dfs.core.windows.net/hyperspaceon..., PartitionFilters: [], PushedFilters: [IsNotNull(deptId), GreaterThan(deptId,20)], ReadSchema: struct<deptId:int,deptName:string>"
          },
          "execution_count": 21,
          "metadata": {}
        }
      ],
      "metadata": {},
      "source": [
        "val newRangeFilter: DataFrame = deptDFrameUpdated.filter(\"deptId > 20\").select(\"deptName\")\n",
        "newRangeFilter.show()\n",
        "\n",
        "newRangeFilter.explain(true)"
      ],
      "attachments": {}
    }
  ],
  "metadata": {
    "saveOutput": true,
    "language_info": {
      "name": "scala"
    }
  },
  "nbformat": 4,
  "nbformat_minor": 2
}